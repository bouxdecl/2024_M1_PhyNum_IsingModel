{
 "cells": [
  {
   "cell_type": "markdown",
   "id": "be2b7dde-23ab-4866-9efb-264124861821",
   "metadata": {},
   "source": [
    "# Monte Carlo algos and tests, from TD2"
   ]
  },
  {
   "cell_type": "code",
   "execution_count": 1,
   "id": "56b5329b-fb8d-4375-8e7e-a8fd0d199eb7",
   "metadata": {
    "tags": []
   },
   "outputs": [],
   "source": [
    "import numpy as np\n",
    "import matplotlib.pyplot as plt"
   ]
  },
  {
   "cell_type": "code",
   "execution_count": 50,
   "id": "538ccacc-9d8a-44a1-8f99-0594951417d6",
   "metadata": {
    "tags": []
   },
   "outputs": [],
   "source": [
    "\n",
    "def equilibration(x_0, M_eq, proba, delta=0.1):\n",
    "    \"\"\"apply M_eq steps to get to stationnary state\n",
    "\n",
    "    Args:\n",
    "        x_0 (float): initial point\n",
    "        M_eq (int): number of steps\n",
    "        proba (func): proba density function\n",
    "        delta (float): steps size\n",
    "\n",
    "    Returns:\n",
    "        float: point after M_eq iterations\n",
    "    \"\"\"\n",
    "    x = x_0\n",
    "    for i in range(0, M_eq -1):\n",
    "        x_new = x + delta * (2*np.random.rand() -1) \n",
    "\n",
    "        A = min(1, proba(x_new)/proba(x))\n",
    "        if np.random.rand() < A:\n",
    "            x = x_new\n",
    "        else:\n",
    "            x = x\n",
    "            \n",
    "    return x\n",
    "\n",
    "\n",
    "def measurement(x_eq, M, proba, delta=0.1):\n",
    "    \"\"\"Monte carlo sample of M points\n",
    "\n",
    "    Args:\n",
    "        x_eq (float): initial point\n",
    "        M (int): number of steps\n",
    "        proba (func): proba density function\n",
    "        delta (float): steps size\n",
    "\n",
    "    Returns:\n",
    "        ndarray: sampled points\n",
    "    \"\"\"\n",
    "    X = np.empty((M))\n",
    "    X[0] = x_eq\n",
    "\n",
    "    for i in range(0, M-1):\n",
    "        x = X[i]\n",
    "        x_new = x + delta * (2*np.random.rand() -1) \n",
    "\n",
    "        A = min(1, proba(x_new)/proba(x))\n",
    "        if np.random.rand() < A:\n",
    "            X[i+1] = x_new\n",
    "        else:\n",
    "            X[i+1] = x\n",
    "    \n",
    "    return X\n",
    "\n",
    "\n",
    "\n",
    "def MonteCarlo(proba, M, x_0, M_eq, delta):\n",
    "    \"\"\"Monte Carlo sample of M points after Meq equilibration steps\n",
    "\n",
    "    Args:\n",
    "        proba (func): proba density function \n",
    "        Meq (int): number of equilibration steps\n",
    "        M (int): number of sampled points \n",
    "        x_0 (float): initial point\n",
    "        delta (float): steps size\n",
    "\n",
    "    Returns:\n",
    "        ndarray: sampled points\n",
    "    \"\"\"\n",
    "    x_eq = equilibration(x_0, M_eq, proba, delta)\n",
    "    return measurement(x_eq, M, proba, delta)"
   ]
  },
  {
   "cell_type": "code",
   "execution_count": 79,
   "id": "caf243eb-2425-4b67-8bae-c1a290f66cd0",
   "metadata": {
    "tags": []
   },
   "outputs": [
    {
     "data": {
      "text/plain": [
       "[<matplotlib.lines.Line2D at 0x7f8ce91b3f90>]"
      ]
     },
     "execution_count": 79,
     "metadata": {},
     "output_type": "execute_result"
    },
    {
     "data": {
      "image/png": "[encoded data removed]",
      "text/plain": [
       "<Figure size 640x480 with 1 Axes>"
      ]
     },
     "metadata": {},
     "output_type": "display_data"
    }
   ],
   "source": [
    "def p(x):\n",
    "    return np.exp(-x**2)/np.sqrt(np.pi)\n",
    "\n",
    "X = MonteCarlo(proba=p, M=int(1e6), x_0=0, M_eq=int(1e4), delta=0.1)\n",
    "X.shape, X\n",
    "\n",
    "\n",
    "plt.hist(X, density=True, bins=np.linspace(-5, 5, 40))\n",
    "\n",
    "x_axis = np.linspace(-5, 5, 100)\n",
    "plt.plot(x_axis, p(x_axis))"
   ]
  },
  {
   "cell_type": "code",
   "execution_count": null,
   "id": "2ebbc690",
   "metadata": {},
   "outputs": [],
   "source": []
  }
 ],
 "metadata": {
  "kernelspec": {
   "display_name": "Python 3 (ipykernel)",
   "language": "python",
   "name": "python3"
  },
  "language_info": {
   "codemirror_mode": {
    "name": "ipython",
    "version": 3
   },
   "file_extension": ".py",
   "mimetype": "text/x-python",
   "name": "python",
   "nbconvert_exporter": "python",
   "pygments_lexer": "ipython3",
   "version": "3.11.5"
  }
 },
 "nbformat": 4,
 "nbformat_minor": 5
}
